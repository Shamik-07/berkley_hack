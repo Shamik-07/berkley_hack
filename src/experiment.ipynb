{
 "cells": [
  {
   "cell_type": "markdown",
   "id": "b4bf96be-9a70-49d8-9131-090044efa345",
   "metadata": {
    "jp-MarkdownHeadingCollapsed": true
   },
   "source": [
    "# Testing API KEYS"
   ]
  },
  {
   "cell_type": "markdown",
   "id": "019ffba2-a9c1-4d4d-9a52-a46eadd85a36",
   "metadata": {
    "jp-MarkdownHeadingCollapsed": true
   },
   "source": [
    "## Testing OpenAI"
   ]
  },
  {
   "cell_type": "code",
   "execution_count": null,
   "id": "fe3d845d-c5da-4076-a03c-338467239ae4",
   "metadata": {
    "execution": {
     "iopub.execute_input": "2024-11-09T07:10:16.595951Z",
     "iopub.status.busy": "2024-11-09T07:10:16.593150Z",
     "iopub.status.idle": "2024-11-09T07:10:16.609569Z",
     "shell.execute_reply": "2024-11-09T07:10:16.605611Z",
     "shell.execute_reply.started": "2024-11-09T07:10:16.595877Z"
    }
   },
   "outputs": [],
   "source": [
    "import os\n",
    "\n",
    "from dotenv import load_dotenv\n",
    "from openai import OpenAI"
   ]
  },
  {
   "cell_type": "code",
   "execution_count": 8,
   "id": "87df9bb1-334a-45cb-bfba-efc5cf99ea59",
   "metadata": {
    "execution": {
     "iopub.execute_input": "2024-11-09T07:16:46.345172Z",
     "iopub.status.busy": "2024-11-09T07:16:46.339754Z",
     "iopub.status.idle": "2024-11-09T07:16:46.358555Z",
     "shell.execute_reply": "2024-11-09T07:16:46.357310Z",
     "shell.execute_reply.started": "2024-11-09T07:16:46.345090Z"
    }
   },
   "outputs": [],
   "source": [
    "_ = load_dotenv()"
   ]
  },
  {
   "cell_type": "code",
   "execution_count": 14,
   "id": "ad5f01ee-a691-49f8-b76d-10c6f6340b04",
   "metadata": {
    "execution": {
     "iopub.execute_input": "2024-11-09T07:22:17.372521Z",
     "iopub.status.busy": "2024-11-09T07:22:17.368010Z",
     "iopub.status.idle": "2024-11-09T07:22:17.485668Z",
     "shell.execute_reply": "2024-11-09T07:22:17.484726Z",
     "shell.execute_reply.started": "2024-11-09T07:22:17.372423Z"
    }
   },
   "outputs": [],
   "source": [
    "open_ai_model=\"gpt-4o-mini\"\n",
    "openai_client = OpenAI(api_key=os.getenv(\"OPENAI_API_KEY\"))"
   ]
  },
  {
   "cell_type": "code",
   "execution_count": 15,
   "id": "b6e01c24-26c5-478c-94bd-c6708f2ff253",
   "metadata": {
    "execution": {
     "iopub.execute_input": "2024-11-09T07:22:34.953918Z",
     "iopub.status.busy": "2024-11-09T07:22:34.950720Z",
     "iopub.status.idle": "2024-11-09T07:22:35.572232Z",
     "shell.execute_reply": "2024-11-09T07:22:35.569134Z",
     "shell.execute_reply.started": "2024-11-09T07:22:34.953850Z"
    }
   },
   "outputs": [
    {
     "name": "stdout",
     "output_type": "stream",
     "text": [
      "Assistant: Of course! \\(2 + 2 = 4\\).\n"
     ]
    }
   ],
   "source": [
    "completion = openai_client.chat.completions.create(\n",
    "  model=open_ai_model,\n",
    "  messages=[\n",
    "    {\"role\": \"system\", \"content\": \"You are a helpful assistant. Help me with my math homework!\"}, # <-- This is the system message that provides context to the model\n",
    "    {\"role\": \"user\", \"content\": \"Hello! Could you solve 2+2?\"}  # <-- This is the user message for which the model will generate a response\n",
    "  ]\n",
    ")\n",
    "\n",
    "print(\"Assistant: \" + completion.choices[0].message.content)"
   ]
  },
  {
   "cell_type": "code",
   "execution_count": null,
   "id": "b3a79c6b-68bd-4def-8996-53654d2ee452",
   "metadata": {},
   "outputs": [],
   "source": []
  },
  {
   "cell_type": "markdown",
   "id": "7bc6ad11-0a78-4af7-8698-7d8a83b2101f",
   "metadata": {
    "jp-MarkdownHeadingCollapsed": true
   },
   "source": [
    "## Testing Lambda"
   ]
  },
  {
   "cell_type": "code",
   "execution_count": null,
   "id": "cd33c1bd-388e-42f3-b4d3-73c98f29c444",
   "metadata": {
    "execution": {
     "iopub.execute_input": "2024-11-09T07:10:16.595951Z",
     "iopub.status.busy": "2024-11-09T07:10:16.593150Z",
     "iopub.status.idle": "2024-11-09T07:10:16.609569Z",
     "shell.execute_reply": "2024-11-09T07:10:16.605611Z",
     "shell.execute_reply.started": "2024-11-09T07:10:16.595877Z"
    }
   },
   "outputs": [],
   "source": [
    "import os\n",
    "\n",
    "from dotenv import load_dotenv\n",
    "from openai import OpenAI"
   ]
  },
  {
   "cell_type": "code",
   "execution_count": 8,
   "id": "346cd24a-9033-44a4-9df3-c1c275ef0b92",
   "metadata": {
    "execution": {
     "iopub.execute_input": "2024-11-09T07:16:46.345172Z",
     "iopub.status.busy": "2024-11-09T07:16:46.339754Z",
     "iopub.status.idle": "2024-11-09T07:16:46.358555Z",
     "shell.execute_reply": "2024-11-09T07:16:46.357310Z",
     "shell.execute_reply.started": "2024-11-09T07:16:46.345090Z"
    }
   },
   "outputs": [],
   "source": [
    "_ = load_dotenv()"
   ]
  },
  {
   "cell_type": "code",
   "execution_count": 114,
   "id": "c041fae0-b5f1-47ce-86a9-1e792f6aa980",
   "metadata": {
    "execution": {
     "iopub.execute_input": "2024-11-10T09:34:59.619933Z",
     "iopub.status.busy": "2024-11-10T09:34:59.619173Z",
     "iopub.status.idle": "2024-11-10T09:34:59.704205Z",
     "shell.execute_reply": "2024-11-10T09:34:59.703193Z",
     "shell.execute_reply.started": "2024-11-10T09:34:59.619861Z"
    }
   },
   "outputs": [],
   "source": [
    "lambda_api_key = os.getenv(\"LAMBDA_API_KEY\")\n",
    "lambda_url = \"https://api.lambdalabs.com/v1\"\n",
    "\n",
    "lambda_client = OpenAI(\n",
    "    api_key=lambda_api_key,\n",
    "    base_url=lambda_url,\n",
    ")\n",
    "\n",
    "lambda_model = \"llama3.1-70b-instruct-berkeley\""
   ]
  },
  {
   "cell_type": "code",
   "execution_count": 219,
   "id": "e567f379-fd46-42d8-9836-fbae6c552790",
   "metadata": {
    "execution": {
     "iopub.execute_input": "2024-11-10T10:42:00.491080Z",
     "iopub.status.busy": "2024-11-10T10:42:00.490080Z",
     "iopub.status.idle": "2024-11-10T10:42:03.029896Z",
     "shell.execute_reply": "2024-11-10T10:42:03.027406Z",
     "shell.execute_reply.started": "2024-11-10T10:42:00.490989Z"
    }
   },
   "outputs": [
    {
     "name": "stdout",
     "output_type": "stream",
     "text": [
      "ChatCompletion(id='chat-f6f471acbf3c4839b3c6971fbb5117e2', choices=[Choice(finish_reason='stop', index=0, logprobs=None, message=ChatCompletionMessage(content=\"I'm a large language model, I don't have real-time access to current weather conditions. However, I can suggest some ways for you to find the current weather in Paris. You can check online weather websites such as AccuWeather, Weather.com, or the official website of Météo-France for the most up-to-date information.\\n\\nIf you'd like, I can also tell you about the typical weather patterns in Paris for a given time of year or help you with any other questions you have.\", refusal=None, role='assistant', audio=None, function_call=None, tool_calls=None), content_filter_results={'hate': {'filtered': False}, 'self_harm': {'filtered': False}, 'sexual': {'filtered': False}, 'violence': {'filtered': False}, 'jailbreak': {'filtered': False, 'detected': False}, 'profanity': {'filtered': False, 'detected': False}})], created=1731235320, model='llama3.1-70b-instruct-berkeley', object='chat.completion', service_tier=None, system_fingerprint='', usage=CompletionUsage(completion_tokens=103, prompt_tokens=99, total_tokens=202, completion_tokens_details=None, prompt_tokens_details=None))\n"
     ]
    }
   ],
   "source": [
    "chat_completion = lambda_client.chat.completions.create(\n",
    "    messages=[{\n",
    "        \"role\": \"system\",\n",
    "        \"content\": \"You are a helpful assistant named Hermes, made by Nous Research.\"\n",
    "    }, {\n",
    "        \"role\": \"user\",\n",
    "        \"content\": \"Who won the world series in 2020?\"\n",
    "    }, {\n",
    "        \"role\":\n",
    "        \"assistant\",\n",
    "        \"content\":\n",
    "        \"The Los Angeles Dodgers won the World Series in 2020.\"\n",
    "    }, {\n",
    "        \"role\": \"user\",\n",
    "        \"content\": \"Where was it played?\"\n",
    "    },\n",
    "             {\"role\":\"user\",\n",
    "             \"content\":\"What's the weather in Paris today?\"}],\n",
    "    model=lambda_model,\n",
    ")\n",
    "\n",
    "print(chat_completion)"
   ]
  },
  {
   "cell_type": "code",
   "execution_count": 220,
   "id": "72a4316b-7328-494f-8678-619c604233b3",
   "metadata": {
    "execution": {
     "iopub.execute_input": "2024-11-10T10:42:13.398344Z",
     "iopub.status.busy": "2024-11-10T10:42:13.397558Z",
     "iopub.status.idle": "2024-11-10T10:42:15.504024Z",
     "shell.execute_reply": "2024-11-10T10:42:15.501284Z",
     "shell.execute_reply.started": "2024-11-10T10:42:13.398274Z"
    }
   },
   "outputs": [
    {
     "name": "stdout",
     "output_type": "stream",
     "text": [
      "Completion(id='chat-dbefa2e945ca41eab01d3512f7b24e09', choices=[CompletionChoice(finish_reason='stop', index=0, logprobs=Logprobs(text_offset=None, token_logprobs=None, tokens=None, top_logprobs=None), text='...electronic devices that can store, process, and communicate information. They are made up of hardware (physical components) and software (programs and operating systems) that work together to perform a wide range of tasks, from simple calculations to complex simulations. Computers have become an essential part of modern life, used in everything from communication and education to entertainment and scientific research.')], created=1731235333, model='llama3.1-70b-instruct-berkeley', object='text_completion', system_fingerprint=None, usage=CompletionUsage(completion_tokens=74, prompt_tokens=38, total_tokens=112, completion_tokens_details=None, prompt_tokens_details=None))\n"
     ]
    }
   ],
   "source": [
    "response = lambda_client.completions.create(\n",
    "  prompt=\"Computers are\",\n",
    "  temperature=0,\n",
    "  model=lambda_model,\n",
    ")\n",
    "\n",
    "print(response)"
   ]
  },
  {
   "cell_type": "code",
   "execution_count": null,
   "id": "ac2a2ecb-f52b-4121-8594-e73c091c4526",
   "metadata": {},
   "outputs": [],
   "source": []
  },
  {
   "cell_type": "code",
   "execution_count": null,
   "id": "aab42e06-e547-438f-b233-489e64f00ae2",
   "metadata": {},
   "outputs": [],
   "source": []
  },
  {
   "cell_type": "markdown",
   "id": "057809b9-f855-4c08-add2-d18988f35c93",
   "metadata": {
    "jp-MarkdownHeadingCollapsed": true
   },
   "source": [
    "## Testing Google"
   ]
  },
  {
   "cell_type": "code",
   "execution_count": 2,
   "id": "d800b316-33c0-4b5f-8a1a-0c8be7d448cf",
   "metadata": {
    "execution": {
     "iopub.execute_input": "2024-11-09T07:32:31.974142Z",
     "iopub.status.busy": "2024-11-09T07:32:31.972329Z",
     "iopub.status.idle": "2024-11-09T07:32:31.985555Z",
     "shell.execute_reply": "2024-11-09T07:32:31.983156Z",
     "shell.execute_reply.started": "2024-11-09T07:32:31.974026Z"
    }
   },
   "outputs": [],
   "source": [
    "import os\n",
    "\n",
    "import google.generativeai as genai\n",
    "from dotenv import load_dotenv"
   ]
  },
  {
   "cell_type": "code",
   "execution_count": 38,
   "id": "92326ea3-d8ab-4356-b5ae-8556dcc4817f",
   "metadata": {
    "execution": {
     "iopub.execute_input": "2024-11-09T09:00:55.123335Z",
     "iopub.status.busy": "2024-11-09T09:00:55.122010Z",
     "iopub.status.idle": "2024-11-09T09:00:55.154694Z",
     "shell.execute_reply": "2024-11-09T09:00:55.149873Z",
     "shell.execute_reply.started": "2024-11-09T09:00:55.123204Z"
    }
   },
   "outputs": [],
   "source": [
    "_ = load_dotenv()"
   ]
  },
  {
   "cell_type": "code",
   "execution_count": 5,
   "id": "2de3a55a-5cb5-4a7f-8b55-a206934f8ef5",
   "metadata": {
    "execution": {
     "iopub.execute_input": "2024-11-09T07:33:13.772860Z",
     "iopub.status.busy": "2024-11-09T07:33:13.769473Z",
     "iopub.status.idle": "2024-11-09T07:33:13.779915Z",
     "shell.execute_reply": "2024-11-09T07:33:13.777713Z",
     "shell.execute_reply.started": "2024-11-09T07:33:13.772792Z"
    }
   },
   "outputs": [],
   "source": [
    "genai.configure(api_key=os.getenv(\"GEMINI_API_KEY\"))"
   ]
  },
  {
   "cell_type": "code",
   "execution_count": 8,
   "id": "8326becf-a0eb-47dc-8682-af7d988083dd",
   "metadata": {
    "execution": {
     "iopub.execute_input": "2024-11-09T07:34:13.753791Z",
     "iopub.status.busy": "2024-11-09T07:34:13.753135Z",
     "iopub.status.idle": "2024-11-09T07:34:14.014060Z",
     "shell.execute_reply": "2024-11-09T07:34:14.012044Z",
     "shell.execute_reply.started": "2024-11-09T07:34:13.753727Z"
    },
    "scrolled": true
   },
   "outputs": [
    {
     "data": {
      "text/plain": [
       "['models/chat-bison-001',\n",
       " 'models/text-bison-001',\n",
       " 'models/embedding-gecko-001',\n",
       " 'models/gemini-1.0-pro-latest',\n",
       " 'models/gemini-1.0-pro',\n",
       " 'models/gemini-pro',\n",
       " 'models/gemini-1.0-pro-001',\n",
       " 'models/gemini-1.0-pro-vision-latest',\n",
       " 'models/gemini-pro-vision',\n",
       " 'models/gemini-1.5-pro-latest',\n",
       " 'models/gemini-1.5-pro-001',\n",
       " 'models/gemini-1.5-pro-002',\n",
       " 'models/gemini-1.5-pro',\n",
       " 'models/gemini-1.5-pro-exp-0801',\n",
       " 'models/gemini-1.5-pro-exp-0827',\n",
       " 'models/gemini-1.5-flash-latest',\n",
       " 'models/gemini-1.5-flash-001',\n",
       " 'models/gemini-1.5-flash-001-tuning',\n",
       " 'models/gemini-1.5-flash',\n",
       " 'models/gemini-1.5-flash-exp-0827',\n",
       " 'models/gemini-1.5-flash-002',\n",
       " 'models/gemini-1.5-flash-8b',\n",
       " 'models/gemini-1.5-flash-8b-001',\n",
       " 'models/gemini-1.5-flash-8b-latest',\n",
       " 'models/gemini-1.5-flash-8b-exp-0827',\n",
       " 'models/gemini-1.5-flash-8b-exp-0924',\n",
       " 'models/embedding-001',\n",
       " 'models/text-embedding-004',\n",
       " 'models/aqa']"
      ]
     },
     "execution_count": 8,
     "metadata": {},
     "output_type": "execute_result"
    }
   ],
   "source": [
    "[i.name for i in genai.list_models()]"
   ]
  },
  {
   "cell_type": "code",
   "execution_count": 23,
   "id": "82163091-bd15-4e04-bc7c-0d3b07c107d9",
   "metadata": {
    "execution": {
     "iopub.execute_input": "2024-11-09T07:52:43.970818Z",
     "iopub.status.busy": "2024-11-09T07:52:43.967194Z",
     "iopub.status.idle": "2024-11-09T07:52:43.981975Z",
     "shell.execute_reply": "2024-11-09T07:52:43.979576Z",
     "shell.execute_reply.started": "2024-11-09T07:52:43.970713Z"
    }
   },
   "outputs": [],
   "source": [
    "model = genai.GenerativeModel(model_name=\"models/gemini-1.5-flash-latest\",\n",
    "                             generation_config=genai.types.GenerationConfig(\n",
    "                                 temperature=0.1,\n",
    "                                 response_mime_type=\"application/json\",top_p=0.9\n",
    "                             ))"
   ]
  },
  {
   "cell_type": "code",
   "execution_count": 24,
   "id": "b15e5ea3-60c6-4304-b722-8d6235849f74",
   "metadata": {
    "execution": {
     "iopub.execute_input": "2024-11-09T07:52:44.564723Z",
     "iopub.status.busy": "2024-11-09T07:52:44.563094Z",
     "iopub.status.idle": "2024-11-09T07:52:45.577678Z",
     "shell.execute_reply": "2024-11-09T07:52:45.574341Z",
     "shell.execute_reply.started": "2024-11-09T07:52:44.564650Z"
    },
    "scrolled": true
   },
   "outputs": [
    {
     "data": {
      "text/plain": [
       "'{\"response\": \"I am a large language model, trained by Google. I can generate text, translate languages, write different kinds of creative content, and answer your questions in an informative way. I am still under development, but I have learned to perform many kinds of tasks, including:\\\\n\\\\n* I will try my best to follow your instructions and complete your requests thoughtfully.\\\\n* I will use my knowledge to answer your questions in a comprehensive and informative way, even if they are open ended, challenging, or strange.\\\\n* I will generate different creative text formats,  like poems, code, scripts, musical pieces, email, letters, etc. I will try my best to fulfill all your requirements.\"}\\n'"
      ]
     },
     "execution_count": 24,
     "metadata": {},
     "output_type": "execute_result"
    }
   ],
   "source": [
    "model.generate_content(contents=\"What can you do?\").text"
   ]
  },
  {
   "cell_type": "code",
   "execution_count": null,
   "id": "ca5a3f09-a1b5-4c5f-997f-81e9a5acd145",
   "metadata": {},
   "outputs": [],
   "source": []
  },
  {
   "cell_type": "markdown",
   "id": "762f63db-df49-4dba-9d31-db21993f1d44",
   "metadata": {},
   "source": [
    "# Multi Agent Phidata"
   ]
  },
  {
   "cell_type": "code",
   "execution_count": 43,
   "id": "1e546b56-966d-4b37-a201-f560c6af5132",
   "metadata": {
    "execution": {
     "iopub.execute_input": "2024-11-10T08:02:16.109769Z",
     "iopub.status.busy": "2024-11-10T08:02:16.107905Z",
     "iopub.status.idle": "2024-11-10T08:02:19.226796Z",
     "shell.execute_reply": "2024-11-10T08:02:19.225396Z",
     "shell.execute_reply.started": "2024-11-10T08:02:16.109633Z"
    }
   },
   "outputs": [],
   "source": [
    "import os\n",
    "\n",
    "import google.generativeai as genai\n",
    "from dotenv import load_dotenv\n",
    "from IPython.display import Markdown\n",
    "from phi.agent import Agent\n",
    "from phi.model.google import Gemini\n",
    "from phi.model.openai import OpenAIChat\n",
    "from phi.tools.duckduckgo import DuckDuckGo\n",
    "from phi.tools.googlesearch import GoogleSearch\n",
    "from phi.tools.hackernews import HackerNews\n",
    "from phi.tools.newspaper4k import Newspaper4k\n",
    "from phi.tools.yfinance import YFinanceTools\n",
    "\n",
    "from textwrap import dedent"
   ]
  },
  {
   "cell_type": "code",
   "execution_count": 3,
   "id": "cd9d0cd3-6187-418e-a483-717c2216a0dc",
   "metadata": {
    "execution": {
     "iopub.execute_input": "2024-11-09T09:43:28.296030Z",
     "iopub.status.busy": "2024-11-09T09:43:28.295711Z",
     "iopub.status.idle": "2024-11-09T09:43:28.410622Z",
     "shell.execute_reply": "2024-11-09T09:43:28.409712Z",
     "shell.execute_reply.started": "2024-11-09T09:43:28.295999Z"
    }
   },
   "outputs": [],
   "source": [
    "_ = load_dotenv()"
   ]
  },
  {
   "cell_type": "code",
   "execution_count": 224,
   "id": "c4f8b099-6658-42d6-805f-4fb75a701dbd",
   "metadata": {
    "execution": {
     "iopub.execute_input": "2024-11-10T10:45:05.906359Z",
     "iopub.status.busy": "2024-11-10T10:45:05.904869Z",
     "iopub.status.idle": "2024-11-10T10:45:05.918816Z",
     "shell.execute_reply": "2024-11-10T10:45:05.916554Z",
     "shell.execute_reply.started": "2024-11-10T10:45:05.906286Z"
    }
   },
   "outputs": [],
   "source": [
    "gemini_model = Gemini(api_key=os.getenv(\"GEMINI_API_KEY\"),id=\"gemini-1.5-flash-latest\",\n",
    "                generation_config=genai.types.GenerationConfig(temperature=0.1,top_p=0.9))"
   ]
  },
  {
   "cell_type": "code",
   "execution_count": 221,
   "id": "dcacc1de-4e81-45ba-a4fe-1ab217943633",
   "metadata": {
    "execution": {
     "iopub.execute_input": "2024-11-10T10:42:51.665105Z",
     "iopub.status.busy": "2024-11-10T10:42:51.662364Z",
     "iopub.status.idle": "2024-11-10T10:42:51.678203Z",
     "shell.execute_reply": "2024-11-10T10:42:51.675621Z",
     "shell.execute_reply.started": "2024-11-10T10:42:51.664959Z"
    }
   },
   "outputs": [],
   "source": [
    "lambda_model = OpenAIChat(id=\"llama3.1-70b-instruct-berkeley\",\n",
    "                         api_key=os.getenv(\"LAMBDA_API_KEY\"),\n",
    "                         base_url=\"https://api.lambdalabs.com/v1\",\n",
    "                         temperature=0.1)"
   ]
  },
  {
   "cell_type": "code",
   "execution_count": 222,
   "id": "2e91f76a-dfa1-4e84-a36d-de75fee7ed88",
   "metadata": {
    "execution": {
     "iopub.execute_input": "2024-11-10T10:42:58.082241Z",
     "iopub.status.busy": "2024-11-10T10:42:58.081423Z",
     "iopub.status.idle": "2024-11-10T10:42:58.094296Z",
     "shell.execute_reply": "2024-11-10T10:42:58.091472Z",
     "shell.execute_reply.started": "2024-11-10T10:42:58.082173Z"
    }
   },
   "outputs": [],
   "source": [
    "openai_model = OpenAIChat(id=\"gpt-4o-mini\",\n",
    "          temperature=0.1, api_key=os.getenv(\"OPENAI_API_KEY\")\n",
    "        )"
   ]
  },
  {
   "cell_type": "code",
   "execution_count": 6,
   "id": "cfcd5298-45af-41f1-8ed2-78b187d51884",
   "metadata": {
    "execution": {
     "iopub.execute_input": "2024-11-09T09:39:39.121102Z",
     "iopub.status.busy": "2024-11-09T09:39:39.120767Z",
     "iopub.status.idle": "2024-11-09T09:39:39.261162Z",
     "shell.execute_reply": "2024-11-09T09:39:39.258633Z",
     "shell.execute_reply.started": "2024-11-09T09:39:39.121069Z"
    }
   },
   "outputs": [],
   "source": [
    "hn_researcher = Agent(\n",
    "    name=\"HackerNews Researcher\",\n",
    "    role=\"Gets top stories from hackernews.\",\n",
    "    tools=[HackerNews()],\n",
    "    model=lambda_model\n",
    ")\n",
    "\n",
    "web_searcher = Agent(\n",
    "    name=\"Web Searcher\",\n",
    "    role=\"Searches the web for information on a topic\",\n",
    "    tools=[DuckDuckGo()],\n",
    "    add_datetime_to_instructions=True,\n",
    "    model=lambda_model\n",
    ")\n",
    "\n",
    "article_reader = Agent(\n",
    "    name=\"Article Reader\",\n",
    "    role=\"Reads articles from URLs.\",\n",
    "    tools=[Newspaper4k()],\n",
    "    model=lambda_model\n",
    ")"
   ]
  },
  {
   "cell_type": "code",
   "execution_count": 14,
   "id": "37458f1b-d91e-4e1a-8ba6-de631ab141da",
   "metadata": {
    "execution": {
     "iopub.execute_input": "2024-11-09T09:40:41.966024Z",
     "iopub.status.busy": "2024-11-09T09:40:41.961380Z",
     "iopub.status.idle": "2024-11-09T09:40:43.690214Z",
     "shell.execute_reply": "2024-11-09T09:40:43.689146Z",
     "shell.execute_reply.started": "2024-11-09T09:40:41.965931Z"
    },
    "scrolled": true
   },
   "outputs": [
    {
     "data": {
      "text/html": [
       "<pre style=\"white-space:pre;overflow-x:auto;line-height:normal;font-family:Menlo,'DejaVu Sans Mono',consolas,'Courier New',monospace\"><span style=\"color: #008000; text-decoration-color: #008000\">DEBUG   </span> Debug logs enabled                                                                                        \n",
       "</pre>\n"
      ],
      "text/plain": [
       "\u001b[32mDEBUG   \u001b[0m Debug logs enabled                                                                                        \n"
      ]
     },
     "metadata": {},
     "output_type": "display_data"
    },
    {
     "data": {
      "text/html": [
       "<pre style=\"white-space:pre;overflow-x:auto;line-height:normal;font-family:Menlo,'DejaVu Sans Mono',consolas,'Courier New',monospace\"><span style=\"color: #008000; text-decoration-color: #008000\">DEBUG   </span> *********** Agent Run Start: <span style=\"color: #ffff00; text-decoration-color: #ffff00\">3f9c1e7c-4477-4668-ac21-2a6373a576c5</span> ***********                             \n",
       "</pre>\n"
      ],
      "text/plain": [
       "\u001b[32mDEBUG   \u001b[0m *********** Agent Run Start: \u001b[93m3f9c1e7c-4477-4668-ac21-2a6373a576c5\u001b[0m ***********                             \n"
      ]
     },
     "metadata": {},
     "output_type": "display_data"
    },
    {
     "data": {
      "text/html": [
       "<pre style=\"white-space:pre;overflow-x:auto;line-height:normal;font-family:Menlo,'DejaVu Sans Mono',consolas,'Courier New',monospace\"><span style=\"color: #008000; text-decoration-color: #008000\">DEBUG   </span> ---------- OpenAI Response Start ----------                                                               \n",
       "</pre>\n"
      ],
      "text/plain": [
       "\u001b[32mDEBUG   \u001b[0m ---------- OpenAI Response Start ----------                                                               \n"
      ]
     },
     "metadata": {},
     "output_type": "display_data"
    },
    {
     "data": {
      "text/html": [
       "<pre style=\"white-space:pre;overflow-x:auto;line-height:normal;font-family:Menlo,'DejaVu Sans Mono',consolas,'Courier New',monospace\"><span style=\"color: #008000; text-decoration-color: #008000\">DEBUG   </span> ============== system ==============                                                                      \n",
       "</pre>\n"
      ],
      "text/plain": [
       "\u001b[32mDEBUG   \u001b[0m ============== system ==============                                                                      \n"
      ]
     },
     "metadata": {},
     "output_type": "display_data"
    },
    {
     "data": {
      "text/html": [
       "<pre style=\"white-space:pre;overflow-x:auto;line-height:normal;font-family:Menlo,'DejaVu Sans Mono',consolas,'Courier New',monospace\"><span style=\"color: #008000; text-decoration-color: #008000\">DEBUG   </span> ## You are the leader of a team of AI Agents.                                                             \n",
       "           - You can either respond directly or transfer tasks to other Agents in your team depending on the tools \n",
       "         available to them.                                                                                        \n",
       "           - If you transfer tasks, make sure to include a clear description of the task and the expected output.  \n",
       "           - You must always validate the output of the other Agents before responding to the user, you can        \n",
       "         re-assign the task if you are not satisfied with the result.                                              \n",
       "                                                                                                                   \n",
       "         ## Instructions                                                                                           \n",
       "         - First, search hackernews for what the user is asking about.                                             \n",
       "         - Then, ask the article reader to read the links for the stories to get more information.                 \n",
       "         - Important: you must provide the article reader with the links to read.                                  \n",
       "         - Then, ask the web searcher to search for each story to get more information.                            \n",
       "         - Finally, provide a thoughtful and engaging summary.                                                     \n",
       "         - Use markdown to format your answers.                                                                    \n",
       "                                                                                                                   \n",
       "         ## Agents in your team:                                                                                   \n",
       "         You can transfer tasks to the following agents:                                                           \n",
       "         Agent <span style=\"color: #008080; text-decoration-color: #008080; font-weight: bold\">1</span>:                                                                                                  \n",
       "         Name: HackerNews Researcher                                                                               \n",
       "         Role: Gets top stories from hackernews.                                                                   \n",
       "         Available tools: get_top_hackernews_stories, get_user_details                                             \n",
       "                                                                                                                   \n",
       "         Agent <span style=\"color: #008080; text-decoration-color: #008080; font-weight: bold\">2</span>:                                                                                                  \n",
       "         Name: Web Searcher                                                                                        \n",
       "         Role: Searches the web for information on a topic                                                         \n",
       "         Available tools: duckduckgo_search, duckduckgo_news                                                       \n",
       "                                                                                                                   \n",
       "         Agent <span style=\"color: #008080; text-decoration-color: #008080; font-weight: bold\">3</span>:                                                                                                  \n",
       "         Name: Article Reader                                                                                      \n",
       "         Role: Reads articles from URLs.                                                                           \n",
       "         Available tools: read_article                                                                             \n",
       "</pre>\n"
      ],
      "text/plain": [
       "\u001b[32mDEBUG   \u001b[0m ## You are the leader of a team of AI Agents.                                                             \n",
       "           - You can either respond directly or transfer tasks to other Agents in your team depending on the tools \n",
       "         available to them.                                                                                        \n",
       "           - If you transfer tasks, make sure to include a clear description of the task and the expected output.  \n",
       "           - You must always validate the output of the other Agents before responding to the user, you can        \n",
       "         re-assign the task if you are not satisfied with the result.                                              \n",
       "                                                                                                                   \n",
       "         ## Instructions                                                                                           \n",
       "         - First, search hackernews for what the user is asking about.                                             \n",
       "         - Then, ask the article reader to read the links for the stories to get more information.                 \n",
       "         - Important: you must provide the article reader with the links to read.                                  \n",
       "         - Then, ask the web searcher to search for each story to get more information.                            \n",
       "         - Finally, provide a thoughtful and engaging summary.                                                     \n",
       "         - Use markdown to format your answers.                                                                    \n",
       "                                                                                                                   \n",
       "         ## Agents in your team:                                                                                   \n",
       "         You can transfer tasks to the following agents:                                                           \n",
       "         Agent \u001b[1;36m1\u001b[0m:                                                                                                  \n",
       "         Name: HackerNews Researcher                                                                               \n",
       "         Role: Gets top stories from hackernews.                                                                   \n",
       "         Available tools: get_top_hackernews_stories, get_user_details                                             \n",
       "                                                                                                                   \n",
       "         Agent \u001b[1;36m2\u001b[0m:                                                                                                  \n",
       "         Name: Web Searcher                                                                                        \n",
       "         Role: Searches the web for information on a topic                                                         \n",
       "         Available tools: duckduckgo_search, duckduckgo_news                                                       \n",
       "                                                                                                                   \n",
       "         Agent \u001b[1;36m3\u001b[0m:                                                                                                  \n",
       "         Name: Article Reader                                                                                      \n",
       "         Role: Reads articles from URLs.                                                                           \n",
       "         Available tools: read_article                                                                             \n"
      ]
     },
     "metadata": {},
     "output_type": "display_data"
    },
    {
     "data": {
      "text/html": [
       "<pre style=\"white-space:pre;overflow-x:auto;line-height:normal;font-family:Menlo,'DejaVu Sans Mono',consolas,'Courier New',monospace\"><span style=\"color: #008000; text-decoration-color: #008000\">DEBUG   </span> ============== user ==============                                                                        \n",
       "</pre>\n"
      ],
      "text/plain": [
       "\u001b[32mDEBUG   \u001b[0m ============== user ==============                                                                        \n"
      ]
     },
     "metadata": {},
     "output_type": "display_data"
    },
    {
     "data": {
      "text/html": [
       "<pre style=\"white-space:pre;overflow-x:auto;line-height:normal;font-family:Menlo,'DejaVu Sans Mono',consolas,'Courier New',monospace\"><span style=\"color: #008000; text-decoration-color: #008000\">DEBUG   </span> Write an article about the top <span style=\"color: #008080; text-decoration-color: #008080; font-weight: bold\">2</span> stories on hackernews                                                    \n",
       "</pre>\n"
      ],
      "text/plain": [
       "\u001b[32mDEBUG   \u001b[0m Write an article about the top \u001b[1;36m2\u001b[0m stories on hackernews                                                    \n"
      ]
     },
     "metadata": {},
     "output_type": "display_data"
    },
    {
     "data": {
      "application/vnd.jupyter.widget-view+json": {
       "model_id": "ececf4897b374624b02625e51d712eb5",
       "version_major": 2,
       "version_minor": 0
      },
      "text/plain": [
       "Output()"
      ]
     },
     "metadata": {},
     "output_type": "display_data"
    },
    {
     "data": {
      "text/html": [
       "<pre style=\"white-space:pre;overflow-x:auto;line-height:normal;font-family:Menlo,'DejaVu Sans Mono',consolas,'Courier New',monospace\"><span style=\"color: #008000; text-decoration-color: #008000\">DEBUG   </span> ============== assistant ==============                                                                   \n",
       "</pre>\n"
      ],
      "text/plain": [
       "\u001b[32mDEBUG   \u001b[0m ============== assistant ==============                                                                   \n"
      ]
     },
     "metadata": {},
     "output_type": "display_data"
    },
    {
     "data": {
      "text/html": [
       "<pre style=\"white-space:pre;overflow-x:auto;line-height:normal;font-family:Menlo,'DejaVu Sans Mono',consolas,'Courier New',monospace\"><span style=\"color: #008000; text-decoration-color: #008000\">DEBUG   </span> **************** METRICS START ****************                                                           \n",
       "</pre>\n"
      ],
      "text/plain": [
       "\u001b[32mDEBUG   \u001b[0m **************** METRICS START ****************                                                           \n"
      ]
     },
     "metadata": {},
     "output_type": "display_data"
    },
    {
     "data": {
      "text/html": [
       "<pre style=\"white-space:pre;overflow-x:auto;line-height:normal;font-family:Menlo,'DejaVu Sans Mono',consolas,'Courier New',monospace\"><span style=\"color: #008000; text-decoration-color: #008000\">DEBUG   </span> * Time to generate response:   <span style=\"color: #008080; text-decoration-color: #008080; font-weight: bold\">0.</span>4807s                                                                    \n",
       "</pre>\n"
      ],
      "text/plain": [
       "\u001b[32mDEBUG   \u001b[0m * Time to generate response:   \u001b[1;36m0.\u001b[0m4807s                                                                    \n"
      ]
     },
     "metadata": {},
     "output_type": "display_data"
    },
    {
     "data": {
      "text/html": [
       "<pre style=\"white-space:pre;overflow-x:auto;line-height:normal;font-family:Menlo,'DejaVu Sans Mono',consolas,'Courier New',monospace\"><span style=\"color: #008000; text-decoration-color: #008000\">DEBUG   </span> * Tokens per second:           <span style=\"color: #008080; text-decoration-color: #008080; font-weight: bold\">0.0000</span> tokens/s                                                            \n",
       "</pre>\n"
      ],
      "text/plain": [
       "\u001b[32mDEBUG   \u001b[0m * Tokens per second:           \u001b[1;36m0.0000\u001b[0m tokens/s                                                            \n"
      ]
     },
     "metadata": {},
     "output_type": "display_data"
    },
    {
     "data": {
      "text/html": [
       "<pre style=\"white-space:pre;overflow-x:auto;line-height:normal;font-family:Menlo,'DejaVu Sans Mono',consolas,'Courier New',monospace\"><span style=\"color: #008000; text-decoration-color: #008000\">DEBUG   </span> * Input tokens:                <span style=\"color: #008080; text-decoration-color: #008080; font-weight: bold\">0</span>                                                                          \n",
       "</pre>\n"
      ],
      "text/plain": [
       "\u001b[32mDEBUG   \u001b[0m * Input tokens:                \u001b[1;36m0\u001b[0m                                                                          \n"
      ]
     },
     "metadata": {},
     "output_type": "display_data"
    },
    {
     "data": {
      "text/html": [
       "<pre style=\"white-space:pre;overflow-x:auto;line-height:normal;font-family:Menlo,'DejaVu Sans Mono',consolas,'Courier New',monospace\"><span style=\"color: #008000; text-decoration-color: #008000\">DEBUG   </span> * Output tokens:               <span style=\"color: #008080; text-decoration-color: #008080; font-weight: bold\">0</span>                                                                          \n",
       "</pre>\n"
      ],
      "text/plain": [
       "\u001b[32mDEBUG   \u001b[0m * Output tokens:               \u001b[1;36m0\u001b[0m                                                                          \n"
      ]
     },
     "metadata": {},
     "output_type": "display_data"
    },
    {
     "data": {
      "text/html": [
       "<pre style=\"white-space:pre;overflow-x:auto;line-height:normal;font-family:Menlo,'DejaVu Sans Mono',consolas,'Courier New',monospace\"><span style=\"color: #008000; text-decoration-color: #008000\">DEBUG   </span> * Total tokens:                <span style=\"color: #008080; text-decoration-color: #008080; font-weight: bold\">0</span>                                                                          \n",
       "</pre>\n"
      ],
      "text/plain": [
       "\u001b[32mDEBUG   \u001b[0m * Total tokens:                \u001b[1;36m0\u001b[0m                                                                          \n"
      ]
     },
     "metadata": {},
     "output_type": "display_data"
    },
    {
     "data": {
      "text/html": [
       "<pre style=\"white-space:pre;overflow-x:auto;line-height:normal;font-family:Menlo,'DejaVu Sans Mono',consolas,'Courier New',monospace\"><span style=\"color: #008000; text-decoration-color: #008000\">DEBUG   </span> **************** METRICS END ******************                                                           \n",
       "</pre>\n"
      ],
      "text/plain": [
       "\u001b[32mDEBUG   \u001b[0m **************** METRICS END ******************                                                           \n"
      ]
     },
     "metadata": {},
     "output_type": "display_data"
    },
    {
     "data": {
      "text/html": [
       "<pre style=\"white-space:pre;overflow-x:auto;line-height:normal;font-family:Menlo,'DejaVu Sans Mono',consolas,'Courier New',monospace\"><span style=\"color: #008000; text-decoration-color: #008000\">DEBUG   </span> ---------- OpenAI Response End ----------                                                                 \n",
       "</pre>\n"
      ],
      "text/plain": [
       "\u001b[32mDEBUG   \u001b[0m ---------- OpenAI Response End ----------                                                                 \n"
      ]
     },
     "metadata": {},
     "output_type": "display_data"
    },
    {
     "data": {
      "text/html": [
       "<pre style=\"white-space:pre;overflow-x:auto;line-height:normal;font-family:Menlo,'DejaVu Sans Mono',consolas,'Courier New',monospace\"><span style=\"color: #008000; text-decoration-color: #008000\">DEBUG   </span> Added <span style=\"color: #008080; text-decoration-color: #008080; font-weight: bold\">2</span> Messages to AgentMemory                                                                           \n",
       "</pre>\n"
      ],
      "text/plain": [
       "\u001b[32mDEBUG   \u001b[0m Added \u001b[1;36m2\u001b[0m Messages to AgentMemory                                                                           \n"
      ]
     },
     "metadata": {},
     "output_type": "display_data"
    },
    {
     "data": {
      "text/html": [
       "<pre style=\"white-space:pre;overflow-x:auto;line-height:normal;font-family:Menlo,'DejaVu Sans Mono',consolas,'Courier New',monospace\"><span style=\"color: #008000; text-decoration-color: #008000\">DEBUG   </span> Added AgentRun to AgentMemory                                                                             \n",
       "</pre>\n"
      ],
      "text/plain": [
       "\u001b[32mDEBUG   \u001b[0m Added AgentRun to AgentMemory                                                                             \n"
      ]
     },
     "metadata": {},
     "output_type": "display_data"
    },
    {
     "data": {
      "text/html": [
       "<pre style=\"white-space:pre;overflow-x:auto;line-height:normal;font-family:Menlo,'DejaVu Sans Mono',consolas,'Courier New',monospace\"><span style=\"color: #008000; text-decoration-color: #008000\">DEBUG   </span> --**-- Logging Agent Run                                                                                  \n",
       "</pre>\n"
      ],
      "text/plain": [
       "\u001b[32mDEBUG   \u001b[0m --**-- Logging Agent Run                                                                                  \n"
      ]
     },
     "metadata": {},
     "output_type": "display_data"
    },
    {
     "data": {
      "text/html": [
       "<pre style=\"white-space:pre;overflow-x:auto;line-height:normal;font-family:Menlo,'DejaVu Sans Mono',consolas,'Courier New',monospace\"><span style=\"color: #008000; text-decoration-color: #008000\">DEBUG   </span> *********** Agent Run End: <span style=\"color: #ffff00; text-decoration-color: #ffff00\">3f9c1e7c-4477-4668-ac21-2a6373a576c5</span> ***********                               \n",
       "</pre>\n"
      ],
      "text/plain": [
       "\u001b[32mDEBUG   \u001b[0m *********** Agent Run End: \u001b[93m3f9c1e7c-4477-4668-ac21-2a6373a576c5\u001b[0m ***********                               \n"
      ]
     },
     "metadata": {},
     "output_type": "display_data"
    },
    {
     "data": {
      "text/html": [
       "<pre style=\"white-space:pre;overflow-x:auto;line-height:normal;font-family:Menlo,'DejaVu Sans Mono',consolas,'Courier New',monospace\"></pre>\n"
      ],
      "text/plain": []
     },
     "metadata": {},
     "output_type": "display_data"
    }
   ],
   "source": [
    "hn_team = Agent(\n",
    "    name=\"Hackernews Team\",\n",
    "    team=[hn_researcher, web_searcher, article_reader],\n",
    "    instructions=[\n",
    "        \"First, search hackernews for what the user is asking about.\",\n",
    "        \"Then, ask the article reader to read the links for the stories to get more information.\",\n",
    "        \"Important: you must provide the article reader with the links to read.\",\n",
    "        \"Then, ask the web searcher to search for each story to get more information.\",\n",
    "        \"Finally, provide a thoughtful and engaging summary.\",\n",
    "    ],\n",
    "    show_tool_calls=True,\n",
    "    markdown=True,\n",
    "    model=lambda_model,\n",
    "    debug_mode=True\n",
    ")\n",
    "hn_team.print_response(\"Write an article about the top 2 stories on hackernews\", stream=True)"
   ]
  },
  {
   "cell_type": "code",
   "execution_count": null,
   "id": "d96af03c-2ec4-4951-93c1-29e6cdc2d31e",
   "metadata": {
    "scrolled": true
   },
   "outputs": [],
   "source": [
    "web_searcher.print_response(\"What are the multiagent framework available in python?\", stream=True)"
   ]
  },
  {
   "cell_type": "code",
   "execution_count": 223,
   "id": "7afff194-cd57-43d4-8593-183680505247",
   "metadata": {
    "execution": {
     "iopub.status.idle": "2024-11-10T10:44:30.420183Z",
     "shell.execute_reply": "2024-11-10T10:44:30.417042Z",
     "shell.execute_reply.started": "2024-11-10T10:44:07.156360Z"
    },
    "scrolled": true
   },
   "outputs": [
    {
     "data": {
      "text/html": [
       "<pre style=\"white-space:pre;overflow-x:auto;line-height:normal;font-family:Menlo,'DejaVu Sans Mono',consolas,'Courier New',monospace\"></pre>\n"
      ],
      "text/plain": []
     },
     "metadata": {},
     "output_type": "display_data"
    }
   ],
   "source": [
    "agent = Agent(\n",
    "    model=lambda_model,\n",
    "    # model=gemini_model,\n",
    ")\n",
    "\n",
    "# # Get the response in a variable\n",
    "# run = agent.run(\"What are the multiagent frameworks available in python? Give a detailed comparison of\\\n",
    "# the one to choose.\")\n",
    "# print(run.content)\n",
    "\n",
    "# Print the response in the terminal\n",
    "agent.print_response(\"What are the multiagent frameworks available in python? Give a detailed comparison of\\\n",
    "the one to choose.\", stream=True, markdown=True)"
   ]
  },
  {
   "cell_type": "code",
   "execution_count": null,
   "id": "6cb10225-aed5-4a10-9992-43ffe02c0514",
   "metadata": {},
   "outputs": [],
   "source": []
  },
  {
   "cell_type": "code",
   "execution_count": null,
   "id": "58e2c6c3-8347-4890-a9d6-17f3cc6e4c6e",
   "metadata": {
    "scrolled": true
   },
   "outputs": [],
   "source": [
    "web_agent = Agent(\n",
    "    name=\"Web Agent\",\n",
    "    model=gemini_model,\n",
    "    # model=openai_model,\n",
    "    # model=lambda_model,\n",
    "    tools=[DuckDuckGo()],\n",
    "    instructions=[\"Always include sources\"],\n",
    "    show_tool_calls=True,\n",
    "    markdown=True,\n",
    ")\n",
    "web_agent.print_response(\"Whats happening in France?\", stream=True)"
   ]
  },
  {
   "cell_type": "code",
   "execution_count": 152,
   "id": "cfbdb1ab-5505-4885-8270-f2ed7a326304",
   "metadata": {
    "execution": {
     "iopub.execute_input": "2024-11-09T13:50:14.191939Z",
     "iopub.status.busy": "2024-11-09T13:50:14.191065Z",
     "iopub.status.idle": "2024-11-09T13:50:19.331627Z",
     "shell.execute_reply": "2024-11-09T13:50:19.328994Z",
     "shell.execute_reply.started": "2024-11-09T13:50:14.191877Z"
    },
    "scrolled": true
   },
   "outputs": [
    {
     "data": {
      "text/markdown": [
       "**French President Emmanuel Macron Announces New Measures to Combat Inflation** \n",
       "\n",
       "French President Emmanuel Macron has announced a series of new measures to combat inflation, including a one-time bonus for low-income workers and a freeze on energy prices. The measures are part of a broader effort to address the rising cost of living in France, which has been exacerbated by the war in Ukraine. \n",
       "\n",
       "Source - https://www.reuters.com/world/europe/french-president-macron-announces-new-measures-combat-inflation-2023-01-26/\n",
       "\n",
       "**French Government Approves New Law to Combat Climate Change** \n",
       "\n",
       "The French government has approved a new law to combat climate change, which includes measures to reduce greenhouse gas emissions and promote renewable energy. The law has been met with mixed reactions, with some environmental groups praising its ambition while others criticizing its lack of concrete action. \n",
       "\n",
       "Source - https://www.bbc.com/news/world-europe-64298841\n",
       "\n",
       "**French Police Crack Down on Protests Against Pension Reform** \n",
       "\n",
       "French police have cracked down on protests against the government's proposed pension reform, which would raise the retirement age from 62 to 64. The protests have been met with violence from both sides, with police using tear gas and protesters throwing projectiles. \n",
       "\n",
       "Source - https://www.aljazeera.com/news/2023/1/23/french-police-crack-down-on-protests-against-pension-reform\n",
       "\n",
       "**French Economy Shows Signs of Slowing Down** \n",
       "\n",
       "The French economy has shown signs of slowing down in recent months, with growth in the fourth quarter of 2022 coming in below expectations. The slowdown is attributed to a number of factors, including the war in Ukraine, rising inflation, and a decline in consumer confidence. \n",
       "\n",
       "Source - https://www.bloomberg.com/news/articles/2023-01-25/french-economy-shows-signs-of-slowing-down-as-inflation-bites\n",
       "\n",
       "**French Government Announces New Measures to Support Businesses** \n",
       "\n",
       "The French government has announced a series of new measures to support businesses, including tax breaks and subsidies. The measures are aimed at helping businesses cope with the rising cost of energy and other inputs. \n",
       "\n",
       "Source - https://www.france24.com/en/live-news/20230126-french-government-announces-new-measures-to-support-businesses\n"
      ],
      "text/plain": [
       "<IPython.core.display.Markdown object>"
      ]
     },
     "execution_count": 152,
     "metadata": {},
     "output_type": "execute_result"
    }
   ],
   "source": [
    "agent = Agent(\n",
    "    tools=[GoogleSearch()],\n",
    "    description=\"You are a news agent that helps users find the latest news.\",\n",
    "    instructions=[\n",
    "        \"Given a topic by the user, respond with 5 latest news items about that topic.\",\n",
    "        \"Search for 10 news items and select the top 5 unique items.\",\n",
    "        \"Search in English and in French. Always include the entire source at the end of each result.\",\n",
    "        \"All the results must be in English and nothing should be truncated.\",\n",
    "        \"\"\" Follow the specified format:\n",
    "        **Title - asdasdasd** \\n\n",
    "        Content - asdasdasd \\n\n",
    "        Source - Entire source \\n\n",
    "        \"\"\",\n",
    "        \"Don't include any intermediary steps in the output.\"\n",
    "    ],\n",
    "    # show_tool_calls=True,\n",
    "    model=gemini_model,\n",
    "    # debug_mode=True\n",
    ")\n",
    "response = agent.run(\"What's happening in France?\", markdown=True)\n",
    "\n",
    "Markdown(response.content)"
   ]
  },
  {
   "cell_type": "code",
   "execution_count": 142,
   "id": "df5d863b-4392-42a0-9cb3-b028a76d791a",
   "metadata": {
    "execution": {
     "iopub.execute_input": "2024-11-09T13:39:24.472374Z",
     "iopub.status.busy": "2024-11-09T13:39:24.470619Z",
     "iopub.status.idle": "2024-11-09T13:39:24.494928Z",
     "shell.execute_reply": "2024-11-09T13:39:24.493213Z",
     "shell.execute_reply.started": "2024-11-09T13:39:24.472276Z"
    }
   },
   "outputs": [
    {
     "data": {
      "text/plain": [
       "'Actualités en temps réel et info en direct'"
      ]
     },
     "execution_count": 142,
     "metadata": {},
     "output_type": "execute_result"
    }
   ],
   "source": [
    "\"Actualit\\u00e9s en temps r\\u00e9el et info en direct\".encode(\"latin1\").decode(\"unicode-escape\")"
   ]
  },
  {
   "cell_type": "code",
   "execution_count": null,
   "id": "92091ebc-05a6-4cb9-b75d-59b720389916",
   "metadata": {},
   "outputs": [],
   "source": []
  },
  {
   "cell_type": "code",
   "execution_count": 45,
   "id": "c3372ba8-0da1-458c-887c-0ecf29a51e61",
   "metadata": {
    "execution": {
     "iopub.execute_input": "2024-11-10T08:02:30.855266Z",
     "iopub.status.busy": "2024-11-10T08:02:30.854247Z",
     "iopub.status.idle": "2024-11-10T08:02:30.874340Z",
     "shell.execute_reply": "2024-11-10T08:02:30.872396Z",
     "shell.execute_reply.started": "2024-11-10T08:02:30.855225Z"
    }
   },
   "outputs": [],
   "source": [
    "finance_agent = Agent(\n",
    "    name=\"Finance Agent\",\n",
    "    model=gemini_model,\n",
    "    tools=[YFinanceTools(enable_all=True)],\n",
    "    system_prompt=\"You are an expert financial planner and you provide customised plan based on the investors inputs.\",\n",
    "    instructions=[\"Use tables to display data.\",\n",
    "                 \"Don't include intermediary steps in the output.\"],\n",
    "    # show_tool_calls=True,\n",
    "    markdown=True,\n",
    "    add_chat_history_to_messages=True,\n",
    "    # debug_mode=True\n",
    ")"
   ]
  },
  {
   "cell_type": "code",
   "execution_count": null,
   "id": "bf45d373-07ba-48b6-9043-90a838c9a3f5",
   "metadata": {
    "scrolled": true
   },
   "outputs": [],
   "source": [
    "finance_agent.print_response(\"Tell me whether i should buy Nvidia.\", stream=True)"
   ]
  },
  {
   "cell_type": "code",
   "execution_count": 174,
   "id": "dc8d64ac-1f5f-40b7-8203-a0cfd3feffc5",
   "metadata": {
    "editable": true,
    "execution": {
     "iopub.execute_input": "2024-11-09T14:14:10.703857Z",
     "iopub.status.busy": "2024-11-09T14:14:10.703021Z",
     "iopub.status.idle": "2024-11-09T14:15:32.669885Z",
     "shell.execute_reply": "2024-11-09T14:15:32.667712Z",
     "shell.execute_reply.started": "2024-11-09T14:14:10.703821Z"
    },
    "scrolled": true,
    "slideshow": {
     "slide_type": ""
    },
    "tags": []
   },
   "outputs": [
    {
     "data": {
      "text/html": [
       "<pre style=\"white-space:pre;overflow-x:auto;line-height:normal;font-family:Menlo,'DejaVu Sans Mono',consolas,'Courier New',monospace\"><span style=\"font-weight: bold\"> 😎 User </span>: </pre>\n"
      ],
      "text/plain": [
       "\u001b[1m 😎 User \u001b[0m: "
      ]
     },
     "metadata": {},
     "output_type": "display_data"
    },
    {
     "name": "stdin",
     "output_type": "stream",
     "text": [
      " Hello\n"
     ]
    },
    {
     "data": {
      "application/vnd.jupyter.widget-view+json": {
       "model_id": "59c6436041d14e548353884f3349fee2",
       "version_major": 2,
       "version_minor": 0
      },
      "text/plain": [
       "Output()"
      ]
     },
     "metadata": {},
     "output_type": "display_data"
    },
    {
     "data": {
      "text/html": [
       "<pre style=\"white-space:pre;overflow-x:auto;line-height:normal;font-family:Menlo,'DejaVu Sans Mono',consolas,'Courier New',monospace\"></pre>\n"
      ],
      "text/plain": []
     },
     "metadata": {},
     "output_type": "display_data"
    },
    {
     "data": {
      "text/html": [
       "<pre style=\"white-space:pre;overflow-x:auto;line-height:normal;font-family:Menlo,'DejaVu Sans Mono',consolas,'Courier New',monospace\"><span style=\"font-weight: bold\"> 😎 User </span>: </pre>\n"
      ],
      "text/plain": [
       "\u001b[1m 😎 User \u001b[0m: "
      ]
     },
     "metadata": {},
     "output_type": "display_data"
    },
    {
     "name": "stdin",
     "output_type": "stream",
     "text": [
      " Investment horizon - 30 years, risk tolerance - very high, investment strategy - growth\n"
     ]
    },
    {
     "data": {
      "application/vnd.jupyter.widget-view+json": {
       "model_id": "7b42a33233f746719f8c0cb53fd579d8",
       "version_major": 2,
       "version_minor": 0
      },
      "text/plain": [
       "Output()"
      ]
     },
     "metadata": {},
     "output_type": "display_data"
    },
    {
     "data": {
      "text/html": [
       "<pre style=\"white-space:pre;overflow-x:auto;line-height:normal;font-family:Menlo,'DejaVu Sans Mono',consolas,'Courier New',monospace\"></pre>\n"
      ],
      "text/plain": []
     },
     "metadata": {},
     "output_type": "display_data"
    },
    {
     "data": {
      "text/html": [
       "<pre style=\"white-space:pre;overflow-x:auto;line-height:normal;font-family:Menlo,'DejaVu Sans Mono',consolas,'Courier New',monospace\"><span style=\"font-weight: bold\"> 😎 User </span>: </pre>\n"
      ],
      "text/plain": [
       "\u001b[1m 😎 User \u001b[0m: "
      ]
     },
     "metadata": {},
     "output_type": "display_data"
    },
    {
     "name": "stdin",
     "output_type": "stream",
     "text": [
      " no investments and the current budget is 5 million rs. should i buy apple?\n"
     ]
    },
    {
     "data": {
      "application/vnd.jupyter.widget-view+json": {
       "model_id": "70978fc86fb14bdd909b9cd2968e3a13",
       "version_major": 2,
       "version_minor": 0
      },
      "text/plain": [
       "Output()"
      ]
     },
     "metadata": {},
     "output_type": "display_data"
    },
    {
     "data": {
      "text/html": [
       "<pre style=\"white-space:pre;overflow-x:auto;line-height:normal;font-family:Menlo,'DejaVu Sans Mono',consolas,'Courier New',monospace\"></pre>\n"
      ],
      "text/plain": []
     },
     "metadata": {},
     "output_type": "display_data"
    },
    {
     "data": {
      "text/html": [
       "<pre style=\"white-space:pre;overflow-x:auto;line-height:normal;font-family:Menlo,'DejaVu Sans Mono',consolas,'Courier New',monospace\"><span style=\"font-weight: bold\"> 😎 User </span>: </pre>\n"
      ],
      "text/plain": [
       "\u001b[1m 😎 User \u001b[0m: "
      ]
     },
     "metadata": {},
     "output_type": "display_data"
    },
    {
     "name": "stdin",
     "output_type": "stream",
     "text": [
      " quit\n"
     ]
    }
   ],
   "source": [
    "finance_agent.cli_app(stream=True, markdown=True)"
   ]
  },
  {
   "cell_type": "code",
   "execution_count": null,
   "id": "628b9fe1-2730-4365-ae30-29baa888dfc1",
   "metadata": {},
   "outputs": [],
   "source": []
  },
  {
   "cell_type": "code",
   "execution_count": null,
   "id": "c7816612-da6b-4931-a707-c07fc3765f9c",
   "metadata": {},
   "outputs": [],
   "source": []
  },
  {
   "cell_type": "code",
   "execution_count": null,
   "id": "57cd3c79-de67-4eeb-8a0c-b88e18a4d131",
   "metadata": {},
   "outputs": [],
   "source": []
  },
  {
   "cell_type": "markdown",
   "id": "85696ab9-078a-4ff7-8e14-2a7d048bf99c",
   "metadata": {},
   "source": [
    "# Misc"
   ]
  },
  {
   "cell_type": "code",
   "execution_count": null,
   "id": "aae645c8-58c5-4c95-aa7b-f586e3495076",
   "metadata": {
    "execution": {
     "iopub.execute_input": "2024-11-10T07:36:12.632841Z",
     "iopub.status.busy": "2024-11-10T07:36:12.632046Z",
     "iopub.status.idle": "2024-11-10T07:36:12.645792Z",
     "shell.execute_reply": "2024-11-10T07:36:12.642507Z",
     "shell.execute_reply.started": "2024-11-10T07:36:12.632775Z"
    }
   },
   "outputs": [],
   "source": [
    "from pathlib import Path\n",
    "from shutil import rmtree\n",
    "from phi.agent import Agent\n",
    "from phi.tools.file import FileTools\n",
    "\n",
    "import os\n",
    "\n",
    "import google.generativeai as genai\n",
    "from dotenv import load_dotenv\n",
    "from phi.model.google import Gemini\n",
    "\n",
    "from phi.tools.yfinance import YFinanceTools"
   ]
  },
  {
   "cell_type": "code",
   "execution_count": 3,
   "id": "7ad6dced-2f77-4581-8dd3-9cc19cbded73",
   "metadata": {
    "execution": {
     "iopub.execute_input": "2024-11-10T07:32:15.031903Z",
     "iopub.status.busy": "2024-11-10T07:32:15.030714Z",
     "iopub.status.idle": "2024-11-10T07:32:15.052544Z",
     "shell.execute_reply": "2024-11-10T07:32:15.050200Z",
     "shell.execute_reply.started": "2024-11-10T07:32:15.031818Z"
    }
   },
   "outputs": [],
   "source": [
    "_ = load_dotenv()"
   ]
  },
  {
   "cell_type": "code",
   "execution_count": 226,
   "id": "0c9f9230-5098-4e17-a007-0158017c4785",
   "metadata": {
    "execution": {
     "iopub.execute_input": "2024-11-10T10:46:36.027299Z",
     "iopub.status.busy": "2024-11-10T10:46:36.026025Z",
     "iopub.status.idle": "2024-11-10T10:46:36.042482Z",
     "shell.execute_reply": "2024-11-10T10:46:36.039233Z",
     "shell.execute_reply.started": "2024-11-10T10:46:36.027173Z"
    }
   },
   "outputs": [],
   "source": [
    "# gemini_model = Gemini(api_key=os.getenv(\"GEMINI_API_KEY\"),id=\"gemini-1.5-flash-latest\",\n",
    "gemini_model = Gemini(api_key=os.getenv(\"GEMINI_API_KEY\"),id=\"gemini-1.5-pro-latest\",\n",
    "                generation_config=genai.types.GenerationConfig(temperature=0.1,top_p=0.9))"
   ]
  },
  {
   "cell_type": "code",
   "execution_count": null,
   "id": "1f5d9cef-2f67-4f47-ae93-0cc696664d81",
   "metadata": {},
   "outputs": [],
   "source": []
  },
  {
   "cell_type": "code",
   "execution_count": 227,
   "id": "3e8eddeb-28c3-4799-b258-bac688e59c60",
   "metadata": {
    "execution": {
     "iopub.execute_input": "2024-11-10T10:46:38.612899Z",
     "iopub.status.busy": "2024-11-10T10:46:38.611373Z",
     "iopub.status.idle": "2024-11-10T10:46:38.627396Z",
     "shell.execute_reply": "2024-11-10T10:46:38.624793Z",
     "shell.execute_reply.started": "2024-11-10T10:46:38.612827Z"
    }
   },
   "outputs": [],
   "source": [
    "# reports_dir = Path(__file__).joinpath(\"junk\", \"reports\")\n",
    "reports_dir = Path.cwd().joinpath(\"junk\", \"reports\")\n",
    "if reports_dir.exists():\n",
    "    rmtree(path=reports_dir, ignore_errors=True)\n",
    "reports_dir.mkdir(parents=True, exist_ok=True)"
   ]
  },
  {
   "cell_type": "code",
   "execution_count": 234,
   "id": "774cb80b-af1b-4d55-8ab1-098c0955bcd8",
   "metadata": {
    "execution": {
     "iopub.execute_input": "2024-11-10T10:48:16.648845Z",
     "iopub.status.busy": "2024-11-10T10:48:16.647314Z",
     "iopub.status.idle": "2024-11-10T10:48:16.665640Z",
     "shell.execute_reply": "2024-11-10T10:48:16.663033Z",
     "shell.execute_reply.started": "2024-11-10T10:48:16.648757Z"
    },
    "scrolled": true
   },
   "outputs": [],
   "source": [
    "stock_analyst = Agent(\n",
    "    name=\"Stock Analyst\",\n",
    "    model=openai_model,\n",
    "    role=\"Get current stock price, analyst recommendations and news for a company.\",\n",
    "    tools=[\n",
    "        YFinanceTools(stock_price=True, analyst_recommendations=True, company_news=True),\n",
    "        FileTools(base_dir=reports_dir),\n",
    "    ],\n",
    "    description=\"You are an stock analyst tasked with producing factual reports on companies.\",\n",
    "    instructions=[\n",
    "        \"You will get a list of companies to write reports on.\",\n",
    "        \"Get the current stock price, analyst recommendations and news for the company\",\n",
    "        \"Save your report to a file in markdown format with the name `company_name.md` in lower case.\",\n",
    "        \"Let the investment lead know the file name of the report.\",\n",
    "    ],\n",
    "    # debug_mode=True,\n",
    ")"
   ]
  },
  {
   "cell_type": "code",
   "execution_count": 229,
   "id": "bd116d10-77e4-420d-8730-b9b8eeab4441",
   "metadata": {
    "execution": {
     "iopub.execute_input": "2024-11-10T10:46:52.019240Z",
     "iopub.status.busy": "2024-11-10T10:46:52.017953Z",
     "iopub.status.idle": "2024-11-10T10:46:52.029086Z",
     "shell.execute_reply": "2024-11-10T10:46:52.027514Z",
     "shell.execute_reply.started": "2024-11-10T10:46:52.019175Z"
    },
    "scrolled": true
   },
   "outputs": [],
   "source": [
    "# stock_analyst.print_response(\"list of companies: apple, google\", markdown=True, stream=True)"
   ]
  },
  {
   "cell_type": "code",
   "execution_count": 235,
   "id": "e353ee52-18ec-4663-b5f7-4b36dcdb11fe",
   "metadata": {
    "execution": {
     "iopub.execute_input": "2024-11-10T10:48:24.101637Z",
     "iopub.status.busy": "2024-11-10T10:48:24.100843Z",
     "iopub.status.idle": "2024-11-10T10:48:24.120104Z",
     "shell.execute_reply": "2024-11-10T10:48:24.117797Z",
     "shell.execute_reply.started": "2024-11-10T10:48:24.101567Z"
    },
    "scrolled": true
   },
   "outputs": [],
   "source": [
    "research_analyst = Agent(\n",
    "    name=\"Research Analyst\",\n",
    "    model=openai_model,\n",
    "    role=\"Writes research reports on stocks.\",\n",
    "    tools=[FileTools(base_dir=reports_dir)],\n",
    "    description=\"You are an investment researcher analyst tasked with producing a ranked list of companies based on their investment potential.\",\n",
    "    instructions=[\n",
    "        # \"You will write your research report based on the information available in files.\",\n",
    "        \"You will write your research report based on the information available in files produced by the stock analyst.\",\n",
    "        \"The investment lead will provide you with the files saved by the stock analyst.\"\n",
    "        \"If no files are provided, list all files in the entire folder and read the files with names matching company names.\",\n",
    "        \"Read each file 1 by 1.\",\n",
    "        \"Then think deeply about whether a stock is valuable or not. Be discerning, you are a skeptical investor focused on maximising growth.\",\n",
    "    ],\n",
    "    # debug_mode=True,\n",
    ")"
   ]
  },
  {
   "cell_type": "code",
   "execution_count": 231,
   "id": "81cf2016-1e71-42b7-8ecf-d46aeca6879f",
   "metadata": {
    "execution": {
     "iopub.execute_input": "2024-11-10T10:47:15.729303Z",
     "iopub.status.busy": "2024-11-10T10:47:15.728327Z",
     "iopub.status.idle": "2024-11-10T10:47:15.739129Z",
     "shell.execute_reply": "2024-11-10T10:47:15.736958Z",
     "shell.execute_reply.started": "2024-11-10T10:47:15.729207Z"
    },
    "scrolled": true
   },
   "outputs": [],
   "source": [
    "# research_analyst.print_response(\"give me research reports about apple, google.\", \n",
    "#                                markdown=True, stream=True)"
   ]
  },
  {
   "cell_type": "code",
   "execution_count": 236,
   "id": "27265d6e-2c9c-4c67-99b0-b9b69253171f",
   "metadata": {
    "execution": {
     "iopub.execute_input": "2024-11-10T10:48:29.066365Z",
     "iopub.status.busy": "2024-11-10T10:48:29.061816Z",
     "iopub.status.idle": "2024-11-10T10:48:29.088076Z",
     "shell.execute_reply": "2024-11-10T10:48:29.086767Z",
     "shell.execute_reply.started": "2024-11-10T10:48:29.066237Z"
    },
    "scrolled": true
   },
   "outputs": [],
   "source": [
    "investment_lead = Agent(\n",
    "    name=\"Investment Lead\",\n",
    "    model=openai_model,\n",
    "    team=[stock_analyst, research_analyst],\n",
    "    show_tool_calls=True,\n",
    "    tools=[FileTools(base_dir=reports_dir)],\n",
    "    description=\"You are an investment lead tasked with producing a research report on companies for investment purposes.\",\n",
    "    instructions=[\n",
    "        \"Given a list of companies, first ask the stock analyst to get the current stock price, analyst recommendations and news for these companies.\",\n",
    "        \"Ask the stock analyst to write its results to files in markdown format with the name `company_name.md`.\",\n",
    "        \"If the stock analyst has not saved the file or saved it with an incorrect name, ask them to save the file again before proceeding.\"\n",
    "        \"Then ask the research_analyst to write a report on these companies based on the information provided by the stock analyst.\",\n",
    "        \"Make sure to provide the research analyst with the files saved by the stock analyst and ask it to read the files directly.\"\n",
    "        \"Finally, review the research report and answer the users question. Make sure to answer their question correctly, in a clear and concise manner.\",\n",
    "        \"If the research analyst has not completed the report, ask them to complete it before you can answer the users question.\",\n",
    "        \"Produce a nicely formatted response to the user, use markdown to format the response.\",\n",
    "    ],\n",
    "    # debug_mode=True,\n",
    ")"
   ]
  },
  {
   "cell_type": "code",
   "execution_count": 237,
   "id": "ecec308d-cb14-4ee3-a5d4-6be6253beb86",
   "metadata": {
    "execution": {
     "iopub.execute_input": "2024-11-10T10:48:30.793472Z",
     "iopub.status.busy": "2024-11-10T10:48:30.792432Z",
     "iopub.status.idle": "2024-11-10T10:49:20.511349Z",
     "shell.execute_reply": "2024-11-10T10:49:20.508596Z",
     "shell.execute_reply.started": "2024-11-10T10:48:30.793350Z"
    },
    "scrolled": true
   },
   "outputs": [
    {
     "data": {
      "application/vnd.jupyter.widget-view+json": {
       "model_id": "a104fefd15ca47648ae8f65e48dbec7e",
       "version_major": 2,
       "version_minor": 0
      },
      "text/plain": [
       "Output()"
      ]
     },
     "metadata": {},
     "output_type": "display_data"
    },
    {
     "data": {
      "text/html": [
       "<pre style=\"white-space:pre;overflow-x:auto;line-height:normal;font-family:Menlo,'DejaVu Sans Mono',consolas,'Courier New',monospace\"><span style=\"color: #000080; text-decoration-color: #000080\">INFO    </span> Saved: <span style=\"color: #800080; text-decoration-color: #800080\">/home/shamik/repos/berkley_hack/src/junk/reports/</span><span style=\"color: #ff00ff; text-decoration-color: #ff00ff\">meta.md</span>                                           \n",
       "</pre>\n"
      ],
      "text/plain": [
       "\u001b[34mINFO    \u001b[0m Saved: \u001b[35m/home/shamik/repos/berkley_hack/src/junk/reports/\u001b[0m\u001b[95mmeta.md\u001b[0m                                           \n"
      ]
     },
     "metadata": {},
     "output_type": "display_data"
    },
    {
     "data": {
      "text/html": [
       "<pre style=\"white-space:pre;overflow-x:auto;line-height:normal;font-family:Menlo,'DejaVu Sans Mono',consolas,'Courier New',monospace\"><span style=\"color: #000080; text-decoration-color: #000080\">INFO    </span> Saved: <span style=\"color: #800080; text-decoration-color: #800080\">/home/shamik/repos/berkley_hack/src/junk/reports/</span><span style=\"color: #ff00ff; text-decoration-color: #ff00ff\">nvda.md</span>                                           \n",
       "</pre>\n"
      ],
      "text/plain": [
       "\u001b[34mINFO    \u001b[0m Saved: \u001b[35m/home/shamik/repos/berkley_hack/src/junk/reports/\u001b[0m\u001b[95mnvda.md\u001b[0m                                           \n"
      ]
     },
     "metadata": {},
     "output_type": "display_data"
    },
    {
     "data": {
      "text/html": [
       "<pre style=\"white-space:pre;overflow-x:auto;line-height:normal;font-family:Menlo,'DejaVu Sans Mono',consolas,'Courier New',monospace\"><span style=\"color: #000080; text-decoration-color: #000080\">INFO    </span> Saved: <span style=\"color: #800080; text-decoration-color: #800080\">/home/shamik/repos/berkley_hack/src/junk/reports/</span><span style=\"color: #ff00ff; text-decoration-color: #ff00ff\">tsla.md</span>                                           \n",
       "</pre>\n"
      ],
      "text/plain": [
       "\u001b[34mINFO    \u001b[0m Saved: \u001b[35m/home/shamik/repos/berkley_hack/src/junk/reports/\u001b[0m\u001b[95mtsla.md\u001b[0m                                           \n"
      ]
     },
     "metadata": {},
     "output_type": "display_data"
    },
    {
     "data": {
      "text/html": [
       "<pre style=\"white-space:pre;overflow-x:auto;line-height:normal;font-family:Menlo,'DejaVu Sans Mono',consolas,'Courier New',monospace\"><span style=\"color: #000080; text-decoration-color: #000080\">INFO    </span> Reading files in : <span style=\"color: #800080; text-decoration-color: #800080\">/home/shamik/repos/berkley_hack/src/junk/</span><span style=\"color: #ff00ff; text-decoration-color: #ff00ff\">reports</span>                                       \n",
       "</pre>\n"
      ],
      "text/plain": [
       "\u001b[34mINFO    \u001b[0m Reading files in : \u001b[35m/home/shamik/repos/berkley_hack/src/junk/\u001b[0m\u001b[95mreports\u001b[0m                                       \n"
      ]
     },
     "metadata": {},
     "output_type": "display_data"
    },
    {
     "data": {
      "text/html": [
       "<pre style=\"white-space:pre;overflow-x:auto;line-height:normal;font-family:Menlo,'DejaVu Sans Mono',consolas,'Courier New',monospace\"><span style=\"color: #000080; text-decoration-color: #000080\">INFO    </span> Reading file: meta.md                                                                                     \n",
       "</pre>\n"
      ],
      "text/plain": [
       "\u001b[34mINFO    \u001b[0m Reading file: meta.md                                                                                     \n"
      ]
     },
     "metadata": {},
     "output_type": "display_data"
    },
    {
     "data": {
      "text/html": [
       "<pre style=\"white-space:pre;overflow-x:auto;line-height:normal;font-family:Menlo,'DejaVu Sans Mono',consolas,'Courier New',monospace\"><span style=\"color: #000080; text-decoration-color: #000080\">INFO    </span> Reading file: nvda.md                                                                                     \n",
       "</pre>\n"
      ],
      "text/plain": [
       "\u001b[34mINFO    \u001b[0m Reading file: nvda.md                                                                                     \n"
      ]
     },
     "metadata": {},
     "output_type": "display_data"
    },
    {
     "data": {
      "text/html": [
       "<pre style=\"white-space:pre;overflow-x:auto;line-height:normal;font-family:Menlo,'DejaVu Sans Mono',consolas,'Courier New',monospace\"><span style=\"color: #000080; text-decoration-color: #000080\">INFO    </span> Reading file: tsla.md                                                                                     \n",
       "</pre>\n"
      ],
      "text/plain": [
       "\u001b[34mINFO    \u001b[0m Reading file: tsla.md                                                                                     \n"
      ]
     },
     "metadata": {},
     "output_type": "display_data"
    },
    {
     "data": {
      "text/html": [
       "<pre style=\"white-space:pre;overflow-x:auto;line-height:normal;font-family:Menlo,'DejaVu Sans Mono',consolas,'Courier New',monospace\"></pre>\n"
      ],
      "text/plain": []
     },
     "metadata": {},
     "output_type": "display_data"
    }
   ],
   "source": [
    "investment_lead.print_response(\n",
    "    \"How would you invest $10000 in META, NVDA and TSLA? Tell me the exact amount you'd invest in each.\",\n",
    "    markdown=True, stream=True\n",
    ")"
   ]
  },
  {
   "cell_type": "code",
   "execution_count": null,
   "id": "13780dbf-71a9-49bd-a816-ab674362d67b",
   "metadata": {
    "execution": {
     "iopub.execute_input": "2024-11-10T10:57:58.413705Z",
     "iopub.status.busy": "2024-11-10T10:57:58.413061Z"
    }
   },
   "outputs": [],
   "source": []
  },
  {
   "cell_type": "markdown",
   "id": "f3165767-ea16-4b68-ae13-d532d3daa6ad",
   "metadata": {},
   "source": [
    "# Reading sqlite DB"
   ]
  },
  {
   "cell_type": "code",
   "execution_count": null,
   "id": "2db4bdc6-cf53-4a5b-a5c8-bd8fae8f68bf",
   "metadata": {},
   "outputs": [],
   "source": []
  }
 ],
 "metadata": {
  "kernelspec": {
   "display_name": "Python 3 (ipykernel)",
   "language": "python",
   "name": "python3"
  },
  "language_info": {
   "codemirror_mode": {
    "name": "ipython",
    "version": 3
   },
   "file_extension": ".py",
   "mimetype": "text/x-python",
   "name": "python",
   "nbconvert_exporter": "python",
   "pygments_lexer": "ipython3",
   "version": "3.12.7"
  }
 },
 "nbformat": 4,
 "nbformat_minor": 5
}
