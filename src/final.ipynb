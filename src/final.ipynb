{
 "cells": [
  {
   "cell_type": "markdown",
   "id": "26a2950a-d3b1-4100-9433-a95e9b4c40d5",
   "metadata": {},
   "source": [
    "# Multi agent app"
   ]
  },
  {
   "cell_type": "code",
   "execution_count": 292,
   "id": "a747ff63-40eb-4496-857e-a77a6283cab6",
   "metadata": {
    "execution": {
     "iopub.execute_input": "2024-11-17T08:53:05.432226Z",
     "iopub.status.busy": "2024-11-17T08:53:05.293831Z",
     "iopub.status.idle": "2024-11-17T08:53:11.382792Z",
     "shell.execute_reply": "2024-11-17T08:53:11.355685Z",
     "shell.execute_reply.started": "2024-11-17T08:53:05.414439Z"
    }
   },
   "outputs": [],
   "source": [
    "import os\n",
    "\n",
    "import google.generativeai as genai\n",
    "from dotenv import load_dotenv\n",
    "from IPython.display import Markdown\n",
    "from phi.agent import Agent\n",
    "from phi.model.google import Gemini\n",
    "from phi.model.openai import OpenAIChat\n",
    "from phi.tools.duckduckgo import DuckDuckGo\n",
    "from phi.tools.googlesearch import GoogleSearch\n",
    "from phi.tools.hackernews import HackerNews\n",
    "from phi.tools.newspaper4k import Newspaper4k\n",
    "from phi.tools.yfinance import YFinanceTools\n",
    "\n",
    "from textwrap import dedent"
   ]
  },
  {
   "cell_type": "code",
   "execution_count": 3,
   "id": "3f769d67-567f-4318-afae-95634dfdee19",
   "metadata": {
    "execution": {
     "iopub.execute_input": "2024-11-09T09:43:28.296030Z",
     "iopub.status.busy": "2024-11-09T09:43:28.295711Z",
     "iopub.status.idle": "2024-11-09T09:43:28.410622Z",
     "shell.execute_reply": "2024-11-09T09:43:28.409712Z",
     "shell.execute_reply.started": "2024-11-09T09:43:28.295999Z"
    }
   },
   "outputs": [],
   "source": [
    "_ = load_dotenv()"
   ]
  },
  {
   "cell_type": "code",
   "execution_count": 224,
   "id": "539a1aa5-f2ff-43c7-9559-a44b40f6fca4",
   "metadata": {
    "execution": {
     "iopub.execute_input": "2024-11-10T10:45:05.906359Z",
     "iopub.status.busy": "2024-11-10T10:45:05.904869Z",
     "iopub.status.idle": "2024-11-10T10:45:05.918816Z",
     "shell.execute_reply": "2024-11-10T10:45:05.916554Z",
     "shell.execute_reply.started": "2024-11-10T10:45:05.906286Z"
    }
   },
   "outputs": [],
   "source": [
    "gemini_model = Gemini(api_key=os.getenv(\"GEMINI_API_KEY\"),id=\"gemini-1.5-flash-latest\",\n",
    "                generation_config=genai.types.GenerationConfig(temperature=0.1,top_p=0.9))"
   ]
  },
  {
   "cell_type": "code",
   "execution_count": 221,
   "id": "22070e43-8ef2-41f2-8c8a-f4c28e488478",
   "metadata": {
    "execution": {
     "iopub.execute_input": "2024-11-10T10:42:51.665105Z",
     "iopub.status.busy": "2024-11-10T10:42:51.662364Z",
     "iopub.status.idle": "2024-11-10T10:42:51.678203Z",
     "shell.execute_reply": "2024-11-10T10:42:51.675621Z",
     "shell.execute_reply.started": "2024-11-10T10:42:51.664959Z"
    }
   },
   "outputs": [],
   "source": [
    "lambda_model = OpenAIChat(id=\"llama3.1-70b-instruct-berkeley\",\n",
    "                         api_key=os.getenv(\"LAMBDA_API_KEY\"),\n",
    "                         base_url=\"https://api.lambdalabs.com/v1\",\n",
    "                         temperature=0.1)"
   ]
  },
  {
   "cell_type": "code",
   "execution_count": 222,
   "id": "389ec0cb-3e6f-43ee-a38e-1a670344e166",
   "metadata": {
    "execution": {
     "iopub.execute_input": "2024-11-10T10:42:58.082241Z",
     "iopub.status.busy": "2024-11-10T10:42:58.081423Z",
     "iopub.status.idle": "2024-11-10T10:42:58.094296Z",
     "shell.execute_reply": "2024-11-10T10:42:58.091472Z",
     "shell.execute_reply.started": "2024-11-10T10:42:58.082173Z"
    }
   },
   "outputs": [],
   "source": [
    "openai_model = OpenAIChat(id=\"gpt-4o-mini\",\n",
    "          temperature=0.1, api_key=os.getenv(\"OPENAI_API_KEY\")\n",
    "        )"
   ]
  },
  {
   "cell_type": "code",
   "execution_count": null,
   "id": "ff4e924b-acf9-4396-8bb8-f4669a8db263",
   "metadata": {},
   "outputs": [],
   "source": []
  },
  {
   "cell_type": "code",
   "execution_count": null,
   "id": "c95a1bd2-4155-4a99-be49-a5c74c3448ef",
   "metadata": {},
   "outputs": [],
   "source": []
  },
  {
   "cell_type": "code",
   "execution_count": null,
   "id": "8c8f15c1-f05d-46c5-b53a-2ccde7cdfb33",
   "metadata": {},
   "outputs": [],
   "source": []
  },
  {
   "cell_type": "code",
   "execution_count": null,
   "id": "ea061654-750b-4bea-9475-839c9348a8a9",
   "metadata": {},
   "outputs": [],
   "source": []
  },
  {
   "cell_type": "code",
   "execution_count": null,
   "id": "6790625d-b49c-478f-bbe8-d3f1beb05085",
   "metadata": {},
   "outputs": [],
   "source": []
  }
 ],
 "metadata": {
  "kernelspec": {
   "display_name": "Python 3 (ipykernel)",
   "language": "python",
   "name": "python3"
  },
  "language_info": {
   "codemirror_mode": {
    "name": "ipython",
    "version": 3
   },
   "file_extension": ".py",
   "mimetype": "text/x-python",
   "name": "python",
   "nbconvert_exporter": "python",
   "pygments_lexer": "ipython3",
   "version": "3.12.7"
  }
 },
 "nbformat": 4,
 "nbformat_minor": 5
}
